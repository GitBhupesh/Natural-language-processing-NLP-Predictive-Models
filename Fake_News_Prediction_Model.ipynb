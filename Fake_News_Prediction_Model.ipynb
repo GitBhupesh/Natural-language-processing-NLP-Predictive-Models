{
 "cells": [
  {
   "cell_type": "raw",
   "id": "6d067d89",
   "metadata": {},
   "source": [
    "About the Dataset:\n",
    "\n",
    "1. id: unique id for a news article\n",
    "2. title: the title of a news article\n",
    "3. author: author of the news article\n",
    "4. text: the text of the article; could be incomplete\n",
    "5. label: a label that marks whether the news article is real or fake:\n",
    "           1: Fake news\n",
    "           0: real New"
   ]
  },
  {
   "cell_type": "markdown",
   "id": "68a76a6b",
   "metadata": {},
   "source": [
    "## Import the Dependencies"
   ]
  },
  {
   "cell_type": "code",
   "execution_count": 1,
   "id": "f6370c22",
   "metadata": {},
   "outputs": [],
   "source": [
    "import pandas as pd\n",
    "import numpy as np\n",
    "import nltk                # natural language tool kit\n",
    "import matplotlib.pyplot as plt"
   ]
  },
  {
   "cell_type": "markdown",
   "id": "5f02e3b5",
   "metadata": {},
   "source": [
    "## Data collection and processing"
   ]
  },
  {
   "cell_type": "code",
   "execution_count": 2,
   "id": "809d3b9b",
   "metadata": {},
   "outputs": [],
   "source": [
    "news_data = pd.read_csv(r\"C:\\Users\\lenovo\\Python data\\Projects\\Fake News Prediction\\train.csv\")"
   ]
  },
  {
   "cell_type": "code",
   "execution_count": 3,
   "id": "345f1f51",
   "metadata": {},
   "outputs": [
    {
     "data": {
      "text/html": [
       "<div>\n",
       "<style scoped>\n",
       "    .dataframe tbody tr th:only-of-type {\n",
       "        vertical-align: middle;\n",
       "    }\n",
       "\n",
       "    .dataframe tbody tr th {\n",
       "        vertical-align: top;\n",
       "    }\n",
       "\n",
       "    .dataframe thead th {\n",
       "        text-align: right;\n",
       "    }\n",
       "</style>\n",
       "<table border=\"1\" class=\"dataframe\">\n",
       "  <thead>\n",
       "    <tr style=\"text-align: right;\">\n",
       "      <th></th>\n",
       "      <th>id</th>\n",
       "      <th>title</th>\n",
       "      <th>author</th>\n",
       "      <th>text</th>\n",
       "      <th>label</th>\n",
       "    </tr>\n",
       "  </thead>\n",
       "  <tbody>\n",
       "    <tr>\n",
       "      <th>0</th>\n",
       "      <td>0</td>\n",
       "      <td>House Dem Aide: We Didn’t Even See Comey’s Let...</td>\n",
       "      <td>Darrell Lucus</td>\n",
       "      <td>House Dem Aide: We Didn’t Even See Comey’s Let...</td>\n",
       "      <td>1</td>\n",
       "    </tr>\n",
       "    <tr>\n",
       "      <th>1</th>\n",
       "      <td>1</td>\n",
       "      <td>FLYNN: Hillary Clinton, Big Woman on Campus - ...</td>\n",
       "      <td>Daniel J. Flynn</td>\n",
       "      <td>Ever get the feeling your life circles the rou...</td>\n",
       "      <td>0</td>\n",
       "    </tr>\n",
       "    <tr>\n",
       "      <th>2</th>\n",
       "      <td>2</td>\n",
       "      <td>Why the Truth Might Get You Fired</td>\n",
       "      <td>Consortiumnews.com</td>\n",
       "      <td>Why the Truth Might Get You Fired October 29, ...</td>\n",
       "      <td>1</td>\n",
       "    </tr>\n",
       "    <tr>\n",
       "      <th>3</th>\n",
       "      <td>3</td>\n",
       "      <td>15 Civilians Killed In Single US Airstrike Hav...</td>\n",
       "      <td>Jessica Purkiss</td>\n",
       "      <td>Videos 15 Civilians Killed In Single US Airstr...</td>\n",
       "      <td>1</td>\n",
       "    </tr>\n",
       "    <tr>\n",
       "      <th>4</th>\n",
       "      <td>4</td>\n",
       "      <td>Iranian woman jailed for fictional unpublished...</td>\n",
       "      <td>Howard Portnoy</td>\n",
       "      <td>Print \\nAn Iranian woman has been sentenced to...</td>\n",
       "      <td>1</td>\n",
       "    </tr>\n",
       "  </tbody>\n",
       "</table>\n",
       "</div>"
      ],
      "text/plain": [
       "   id                                              title              author  \\\n",
       "0   0  House Dem Aide: We Didn’t Even See Comey’s Let...       Darrell Lucus   \n",
       "1   1  FLYNN: Hillary Clinton, Big Woman on Campus - ...     Daniel J. Flynn   \n",
       "2   2                  Why the Truth Might Get You Fired  Consortiumnews.com   \n",
       "3   3  15 Civilians Killed In Single US Airstrike Hav...     Jessica Purkiss   \n",
       "4   4  Iranian woman jailed for fictional unpublished...      Howard Portnoy   \n",
       "\n",
       "                                                text  label  \n",
       "0  House Dem Aide: We Didn’t Even See Comey’s Let...      1  \n",
       "1  Ever get the feeling your life circles the rou...      0  \n",
       "2  Why the Truth Might Get You Fired October 29, ...      1  \n",
       "3  Videos 15 Civilians Killed In Single US Airstr...      1  \n",
       "4  Print \\nAn Iranian woman has been sentenced to...      1  "
      ]
     },
     "execution_count": 3,
     "metadata": {},
     "output_type": "execute_result"
    }
   ],
   "source": [
    "news_data.head()"
   ]
  },
  {
   "cell_type": "code",
   "execution_count": 4,
   "id": "0aeb0989",
   "metadata": {},
   "outputs": [
    {
     "data": {
      "text/plain": [
       "(20800, 5)"
      ]
     },
     "execution_count": 4,
     "metadata": {},
     "output_type": "execute_result"
    }
   ],
   "source": [
    "# Checking the number of rows and columns\n",
    "news_data.shape"
   ]
  },
  {
   "cell_type": "code",
   "execution_count": 7,
   "id": "25dd799e",
   "metadata": {},
   "outputs": [
    {
     "data": {
      "text/plain": [
       "id        0\n",
       "title     0\n",
       "author    0\n",
       "text      0\n",
       "label     0\n",
       "dtype: int64"
      ]
     },
     "execution_count": 7,
     "metadata": {},
     "output_type": "execute_result"
    }
   ],
   "source": [
    "# Check the number of missing values in each columns\n",
    "news_data.isnull().sum()"
   ]
  },
  {
   "cell_type": "code",
   "execution_count": 6,
   "id": "9aece3e2",
   "metadata": {},
   "outputs": [],
   "source": [
    "# replacing the null values with empty string\n",
    "news_data = news_data.fillna('')"
   ]
  },
  {
   "cell_type": "code",
   "execution_count": 8,
   "id": "14aa7800",
   "metadata": {},
   "outputs": [],
   "source": [
    "# merging the author name and news title\n",
    "news_data['content'] = news_data['author']+' '+news_data['title']"
   ]
  },
  {
   "cell_type": "code",
   "execution_count": 12,
   "id": "d215ee05",
   "metadata": {},
   "outputs": [
    {
     "data": {
      "text/html": [
       "<div>\n",
       "<style scoped>\n",
       "    .dataframe tbody tr th:only-of-type {\n",
       "        vertical-align: middle;\n",
       "    }\n",
       "\n",
       "    .dataframe tbody tr th {\n",
       "        vertical-align: top;\n",
       "    }\n",
       "\n",
       "    .dataframe thead th {\n",
       "        text-align: right;\n",
       "    }\n",
       "</style>\n",
       "<table border=\"1\" class=\"dataframe\">\n",
       "  <thead>\n",
       "    <tr style=\"text-align: right;\">\n",
       "      <th></th>\n",
       "      <th>id</th>\n",
       "      <th>title</th>\n",
       "      <th>author</th>\n",
       "      <th>text</th>\n",
       "      <th>label</th>\n",
       "      <th>content</th>\n",
       "    </tr>\n",
       "  </thead>\n",
       "  <tbody>\n",
       "    <tr>\n",
       "      <th>0</th>\n",
       "      <td>0</td>\n",
       "      <td>House Dem Aide: We Didn’t Even See Comey’s Let...</td>\n",
       "      <td>Darrell Lucus</td>\n",
       "      <td>House Dem Aide: We Didn’t Even See Comey’s Let...</td>\n",
       "      <td>1</td>\n",
       "      <td>Darrell Lucus House Dem Aide: We Didn’t Even S...</td>\n",
       "    </tr>\n",
       "    <tr>\n",
       "      <th>1</th>\n",
       "      <td>1</td>\n",
       "      <td>FLYNN: Hillary Clinton, Big Woman on Campus - ...</td>\n",
       "      <td>Daniel J. Flynn</td>\n",
       "      <td>Ever get the feeling your life circles the rou...</td>\n",
       "      <td>0</td>\n",
       "      <td>Daniel J. Flynn FLYNN: Hillary Clinton, Big Wo...</td>\n",
       "    </tr>\n",
       "    <tr>\n",
       "      <th>2</th>\n",
       "      <td>2</td>\n",
       "      <td>Why the Truth Might Get You Fired</td>\n",
       "      <td>Consortiumnews.com</td>\n",
       "      <td>Why the Truth Might Get You Fired October 29, ...</td>\n",
       "      <td>1</td>\n",
       "      <td>Consortiumnews.com Why the Truth Might Get You...</td>\n",
       "    </tr>\n",
       "    <tr>\n",
       "      <th>3</th>\n",
       "      <td>3</td>\n",
       "      <td>15 Civilians Killed In Single US Airstrike Hav...</td>\n",
       "      <td>Jessica Purkiss</td>\n",
       "      <td>Videos 15 Civilians Killed In Single US Airstr...</td>\n",
       "      <td>1</td>\n",
       "      <td>Jessica Purkiss 15 Civilians Killed In Single ...</td>\n",
       "    </tr>\n",
       "    <tr>\n",
       "      <th>4</th>\n",
       "      <td>4</td>\n",
       "      <td>Iranian woman jailed for fictional unpublished...</td>\n",
       "      <td>Howard Portnoy</td>\n",
       "      <td>Print \\nAn Iranian woman has been sentenced to...</td>\n",
       "      <td>1</td>\n",
       "      <td>Howard Portnoy Iranian woman jailed for fictio...</td>\n",
       "    </tr>\n",
       "  </tbody>\n",
       "</table>\n",
       "</div>"
      ],
      "text/plain": [
       "   id                                              title              author  \\\n",
       "0   0  House Dem Aide: We Didn’t Even See Comey’s Let...       Darrell Lucus   \n",
       "1   1  FLYNN: Hillary Clinton, Big Woman on Campus - ...     Daniel J. Flynn   \n",
       "2   2                  Why the Truth Might Get You Fired  Consortiumnews.com   \n",
       "3   3  15 Civilians Killed In Single US Airstrike Hav...     Jessica Purkiss   \n",
       "4   4  Iranian woman jailed for fictional unpublished...      Howard Portnoy   \n",
       "\n",
       "                                                text  label  \\\n",
       "0  House Dem Aide: We Didn’t Even See Comey’s Let...      1   \n",
       "1  Ever get the feeling your life circles the rou...      0   \n",
       "2  Why the Truth Might Get You Fired October 29, ...      1   \n",
       "3  Videos 15 Civilians Killed In Single US Airstr...      1   \n",
       "4  Print \\nAn Iranian woman has been sentenced to...      1   \n",
       "\n",
       "                                             content  \n",
       "0  Darrell Lucus House Dem Aide: We Didn’t Even S...  \n",
       "1  Daniel J. Flynn FLYNN: Hillary Clinton, Big Wo...  \n",
       "2  Consortiumnews.com Why the Truth Might Get You...  \n",
       "3  Jessica Purkiss 15 Civilians Killed In Single ...  \n",
       "4  Howard Portnoy Iranian woman jailed for fictio...  "
      ]
     },
     "execution_count": 12,
     "metadata": {},
     "output_type": "execute_result"
    }
   ],
   "source": [
    "news_data.head()"
   ]
  },
  {
   "cell_type": "code",
   "execution_count": 14,
   "id": "1f6ebb55",
   "metadata": {},
   "outputs": [
    {
     "data": {
      "text/html": [
       "<div>\n",
       "<style scoped>\n",
       "    .dataframe tbody tr th:only-of-type {\n",
       "        vertical-align: middle;\n",
       "    }\n",
       "\n",
       "    .dataframe tbody tr th {\n",
       "        vertical-align: top;\n",
       "    }\n",
       "\n",
       "    .dataframe thead th {\n",
       "        text-align: right;\n",
       "    }\n",
       "</style>\n",
       "<table border=\"1\" class=\"dataframe\">\n",
       "  <thead>\n",
       "    <tr style=\"text-align: right;\">\n",
       "      <th></th>\n",
       "      <th>label</th>\n",
       "      <th>content</th>\n",
       "    </tr>\n",
       "  </thead>\n",
       "  <tbody>\n",
       "    <tr>\n",
       "      <th>0</th>\n",
       "      <td>1</td>\n",
       "      <td>Darrell Lucus House Dem Aide: We Didn’t Even S...</td>\n",
       "    </tr>\n",
       "    <tr>\n",
       "      <th>1</th>\n",
       "      <td>0</td>\n",
       "      <td>Daniel J. Flynn FLYNN: Hillary Clinton, Big Wo...</td>\n",
       "    </tr>\n",
       "    <tr>\n",
       "      <th>2</th>\n",
       "      <td>1</td>\n",
       "      <td>Consortiumnews.com Why the Truth Might Get You...</td>\n",
       "    </tr>\n",
       "    <tr>\n",
       "      <th>3</th>\n",
       "      <td>1</td>\n",
       "      <td>Jessica Purkiss 15 Civilians Killed In Single ...</td>\n",
       "    </tr>\n",
       "    <tr>\n",
       "      <th>4</th>\n",
       "      <td>1</td>\n",
       "      <td>Howard Portnoy Iranian woman jailed for fictio...</td>\n",
       "    </tr>\n",
       "  </tbody>\n",
       "</table>\n",
       "</div>"
      ],
      "text/plain": [
       "   label                                            content\n",
       "0      1  Darrell Lucus House Dem Aide: We Didn’t Even S...\n",
       "1      0  Daniel J. Flynn FLYNN: Hillary Clinton, Big Wo...\n",
       "2      1  Consortiumnews.com Why the Truth Might Get You...\n",
       "3      1  Jessica Purkiss 15 Civilians Killed In Single ...\n",
       "4      1  Howard Portnoy Iranian woman jailed for fictio..."
      ]
     },
     "execution_count": 14,
     "metadata": {},
     "output_type": "execute_result"
    }
   ],
   "source": [
    "news_data = news_data.iloc[:,-2:]\n",
    "news_data.head()"
   ]
  },
  {
   "cell_type": "code",
   "execution_count": 15,
   "id": "8030e86d",
   "metadata": {},
   "outputs": [
    {
     "data": {
      "text/plain": [
       "1    10413\n",
       "0    10387\n",
       "Name: label, dtype: int64"
      ]
     },
     "execution_count": 15,
     "metadata": {},
     "output_type": "execute_result"
    }
   ],
   "source": [
    "news_data.label.value_counts()"
   ]
  },
  {
   "cell_type": "code",
   "execution_count": 16,
   "id": "99182315",
   "metadata": {},
   "outputs": [
    {
     "data": {
      "text/plain": [
       "0        darrell lucus house dem aide: we didn’t even s...\n",
       "1        daniel j. flynn flynn: hillary clinton, big wo...\n",
       "2        consortiumnews.com why the truth might get you...\n",
       "3        jessica purkiss 15 civilians killed in single ...\n",
       "4        howard portnoy iranian woman jailed for fictio...\n",
       "                               ...                        \n",
       "20795    jerome hudson rapper t.i.: trump a ’poster chi...\n",
       "20796    benjamin hoffman n.f.l. playoffs: schedule, ma...\n",
       "20797    michael j. de la merced and rachel abrams macy...\n",
       "20798    alex ansary nato, russia to hold parallel exer...\n",
       "20799              david swanson what keeps the f-35 alive\n",
       "Name: content, Length: 20800, dtype: object"
      ]
     },
     "execution_count": 16,
     "metadata": {},
     "output_type": "execute_result"
    }
   ],
   "source": [
    "news_data.content = news_data.content.str.lower()\n",
    "news_data.content"
   ]
  },
  {
   "cell_type": "code",
   "execution_count": 17,
   "id": "5bbd2335",
   "metadata": {},
   "outputs": [],
   "source": [
    "from nltk.corpus import stopwords"
   ]
  },
  {
   "cell_type": "code",
   "execution_count": 18,
   "id": "7e303a71",
   "metadata": {},
   "outputs": [
    {
     "data": {
      "text/plain": [
       "['i',\n",
       " 'me',\n",
       " 'my',\n",
       " 'myself',\n",
       " 'we',\n",
       " 'our',\n",
       " 'ours',\n",
       " 'ourselves',\n",
       " 'you',\n",
       " \"you're\",\n",
       " \"you've\",\n",
       " \"you'll\",\n",
       " \"you'd\",\n",
       " 'your',\n",
       " 'yours',\n",
       " 'yourself',\n",
       " 'yourselves',\n",
       " 'he',\n",
       " 'him',\n",
       " 'his',\n",
       " 'himself',\n",
       " 'she',\n",
       " \"she's\",\n",
       " 'her',\n",
       " 'hers',\n",
       " 'herself',\n",
       " 'it',\n",
       " \"it's\",\n",
       " 'its',\n",
       " 'itself',\n",
       " 'they',\n",
       " 'them',\n",
       " 'their',\n",
       " 'theirs',\n",
       " 'themselves',\n",
       " 'what',\n",
       " 'which',\n",
       " 'who',\n",
       " 'whom',\n",
       " 'this',\n",
       " 'that',\n",
       " \"that'll\",\n",
       " 'these',\n",
       " 'those',\n",
       " 'am',\n",
       " 'is',\n",
       " 'are',\n",
       " 'was',\n",
       " 'were',\n",
       " 'be',\n",
       " 'been',\n",
       " 'being',\n",
       " 'have',\n",
       " 'has',\n",
       " 'had',\n",
       " 'having',\n",
       " 'do',\n",
       " 'does',\n",
       " 'did',\n",
       " 'doing',\n",
       " 'a',\n",
       " 'an',\n",
       " 'the',\n",
       " 'and',\n",
       " 'but',\n",
       " 'if',\n",
       " 'or',\n",
       " 'because',\n",
       " 'as',\n",
       " 'until',\n",
       " 'while',\n",
       " 'of',\n",
       " 'at',\n",
       " 'by',\n",
       " 'for',\n",
       " 'with',\n",
       " 'about',\n",
       " 'against',\n",
       " 'between',\n",
       " 'into',\n",
       " 'through',\n",
       " 'during',\n",
       " 'before',\n",
       " 'after',\n",
       " 'above',\n",
       " 'below',\n",
       " 'to',\n",
       " 'from',\n",
       " 'up',\n",
       " 'down',\n",
       " 'in',\n",
       " 'out',\n",
       " 'on',\n",
       " 'off',\n",
       " 'over',\n",
       " 'under',\n",
       " 'again',\n",
       " 'further',\n",
       " 'then',\n",
       " 'once',\n",
       " 'here',\n",
       " 'there',\n",
       " 'when',\n",
       " 'where',\n",
       " 'why',\n",
       " 'how',\n",
       " 'all',\n",
       " 'any',\n",
       " 'both',\n",
       " 'each',\n",
       " 'few',\n",
       " 'more',\n",
       " 'most',\n",
       " 'other',\n",
       " 'some',\n",
       " 'such',\n",
       " 'no',\n",
       " 'nor',\n",
       " 'not',\n",
       " 'only',\n",
       " 'own',\n",
       " 'same',\n",
       " 'so',\n",
       " 'than',\n",
       " 'too',\n",
       " 'very',\n",
       " 's',\n",
       " 't',\n",
       " 'can',\n",
       " 'will',\n",
       " 'just',\n",
       " 'don',\n",
       " \"don't\",\n",
       " 'should',\n",
       " \"should've\",\n",
       " 'now',\n",
       " 'd',\n",
       " 'll',\n",
       " 'm',\n",
       " 'o',\n",
       " 're',\n",
       " 've',\n",
       " 'y',\n",
       " 'ain',\n",
       " 'aren',\n",
       " \"aren't\",\n",
       " 'couldn',\n",
       " \"couldn't\",\n",
       " 'didn',\n",
       " \"didn't\",\n",
       " 'doesn',\n",
       " \"doesn't\",\n",
       " 'hadn',\n",
       " \"hadn't\",\n",
       " 'hasn',\n",
       " \"hasn't\",\n",
       " 'haven',\n",
       " \"haven't\",\n",
       " 'isn',\n",
       " \"isn't\",\n",
       " 'ma',\n",
       " 'mightn',\n",
       " \"mightn't\",\n",
       " 'mustn',\n",
       " \"mustn't\",\n",
       " 'needn',\n",
       " \"needn't\",\n",
       " 'shan',\n",
       " \"shan't\",\n",
       " 'shouldn',\n",
       " \"shouldn't\",\n",
       " 'wasn',\n",
       " \"wasn't\",\n",
       " 'weren',\n",
       " \"weren't\",\n",
       " 'won',\n",
       " \"won't\",\n",
       " 'wouldn',\n",
       " \"wouldn't\"]"
      ]
     },
     "execution_count": 18,
     "metadata": {},
     "output_type": "execute_result"
    }
   ],
   "source": [
    "# We are just check the stopwords\n",
    "stopwords.words('english')"
   ]
  },
  {
   "cell_type": "code",
   "execution_count": 19,
   "id": "2f8dcdcc",
   "metadata": {},
   "outputs": [
    {
     "name": "stderr",
     "output_type": "stream",
     "text": [
      "[nltk_data] Error loading stopwords: <urlopen error [Errno 11001]\n",
      "[nltk_data]     getaddrinfo failed>\n"
     ]
    },
    {
     "data": {
      "text/plain": [
       "False"
      ]
     },
     "execution_count": 19,
     "metadata": {},
     "output_type": "execute_result"
    }
   ],
   "source": [
    "import nltk\n",
    "nltk.download('stopwords')"
   ]
  },
  {
   "cell_type": "code",
   "execution_count": 20,
   "id": "94e12794",
   "metadata": {},
   "outputs": [],
   "source": [
    "import string"
   ]
  },
  {
   "cell_type": "code",
   "execution_count": 21,
   "id": "6bfa56d2",
   "metadata": {},
   "outputs": [
    {
     "data": {
      "text/plain": [
       "'!\"#$%&\\'()*+,-./:;<=>?@[\\\\]^_`{|}~'"
      ]
     },
     "execution_count": 21,
     "metadata": {},
     "output_type": "execute_result"
    }
   ],
   "source": [
    "string.punctuation # leter we will remove them also"
   ]
  },
  {
   "cell_type": "code",
   "execution_count": 22,
   "id": "319180ec",
   "metadata": {},
   "outputs": [],
   "source": [
    "# we will remove the stop word, punctuation and \n",
    "# tokenization (assign id to each word)\n",
    "# create a tdm\n",
    "# then do sampling, \n",
    "# build the model, \n",
    "# do the prediction\n"
   ]
  },
  {
   "cell_type": "code",
   "execution_count": 23,
   "id": "efec9857",
   "metadata": {},
   "outputs": [],
   "source": [
    "def text_process(mess):            ### creating a function\n",
    "    \"\"\"                                                        ## a docstring\n",
    "    1. remove the punctuation\n",
    "    2. remove the stopwords\n",
    "    3. return the list of clean textwords\n",
    "    \n",
    "    \"\"\"\n",
    "    nopunc = [char for char in mess if char not in string.punctuation]\n",
    "    nopunc = \"\".join(nopunc)\n",
    "    \n",
    "    return [ word for word in nopunc.split() if word not in stopwords.words(\"english\")]\n"
   ]
  },
  {
   "cell_type": "code",
   "execution_count": 24,
   "id": "32b95a71",
   "metadata": {},
   "outputs": [],
   "source": [
    "from sklearn.feature_extraction.text import CountVectorizer\n",
    "# it is used to give count for each unique word"
   ]
  },
  {
   "cell_type": "code",
   "execution_count": 25,
   "id": "dcb3fad4",
   "metadata": {},
   "outputs": [],
   "source": [
    "after_trans = CountVectorizer(analyzer=text_process).fit(news_data['content'])"
   ]
  },
  {
   "cell_type": "code",
   "execution_count": 26,
   "id": "cbd83f34",
   "metadata": {},
   "outputs": [
    {
     "data": {
      "text/plain": [
       "{'darrell': 6556,\n",
       " 'lucus': 15039,\n",
       " 'house': 12161,\n",
       " 'dem': 6885,\n",
       " 'aide': 1244,\n",
       " 'didn’t': 7248,\n",
       " 'even': 8842,\n",
       " 'see': 22247,\n",
       " 'comey’s': 5427,\n",
       " 'letter': 14591,\n",
       " 'jason': 13329,\n",
       " 'chaffetz': 4662,\n",
       " 'tweeted': 25833,\n",
       " 'daniel': 6514,\n",
       " 'j': 13251,\n",
       " 'flynn': 9892,\n",
       " 'hillary': 11861,\n",
       " 'clinton': 5169,\n",
       " 'big': 3160,\n",
       " 'woman': 27500,\n",
       " 'campus': 4251,\n",
       " 'breitbart': 3757,\n",
       " 'consortiumnewscom': 5732,\n",
       " 'truth': 25722,\n",
       " 'might': 16038,\n",
       " 'get': 10617,\n",
       " 'fired': 9698,\n",
       " 'jessica': 13409,\n",
       " 'purkiss': 19938,\n",
       " '15': 160,\n",
       " 'civilians': 5047,\n",
       " 'killed': 13918,\n",
       " 'single': 22912,\n",
       " 'us': 26313,\n",
       " 'airstrike': 1294,\n",
       " 'identified': 12380,\n",
       " 'howard': 12178,\n",
       " 'portnoy': 19199,\n",
       " 'iranian': 13101,\n",
       " 'jailed': 13287,\n",
       " 'fictional': 9573,\n",
       " 'unpublished': 26184,\n",
       " 'story': 23951,\n",
       " 'stoned': 23917,\n",
       " 'death': 6658,\n",
       " 'adultery': 1080,\n",
       " 'nussbaum': 17407,\n",
       " 'jackie': 13261,\n",
       " 'mason': 15554,\n",
       " 'hollywood': 11998,\n",
       " 'would': 27594,\n",
       " 'love': 14992,\n",
       " 'trump': 25663,\n",
       " 'bombed': 3494,\n",
       " 'north': 17283,\n",
       " 'korea': 14088,\n",
       " 'lack': 14211,\n",
       " 'trans': 25456,\n",
       " 'bathrooms': 2831,\n",
       " 'exclusive': 8949,\n",
       " 'video': 26616,\n",
       " 'life': 14683,\n",
       " 'luxury': 15086,\n",
       " 'elton': 8364,\n",
       " 'john’s': 13513,\n",
       " '6': 574,\n",
       " 'favorite': 9416,\n",
       " 'shark': 22567,\n",
       " 'pictures': 18791,\n",
       " 'stare': 23729,\n",
       " 'long': 14909,\n",
       " 'transcontinental': 25459,\n",
       " 'flights': 9820,\n",
       " 'alissa': 1409,\n",
       " 'rubin': 21547,\n",
       " 'benoît': 3046,\n",
       " 'hamon': 11349,\n",
       " 'wins': 27413,\n",
       " 'french': 10175,\n",
       " 'socialist': 23228,\n",
       " 'party’s': 18324,\n",
       " 'presidential': 19445,\n",
       " 'nomination': 17221,\n",
       " 'new': 17065,\n",
       " 'york': 27797,\n",
       " 'times': 25175,\n",
       " 'excerpts': 8930,\n",
       " 'draft': 7796,\n",
       " 'script': 22152,\n",
       " 'donald': 7690,\n",
       " 'trump’s': 25708,\n",
       " 'qampa': 19993,\n",
       " 'black': 3264,\n",
       " 'church’s': 4984,\n",
       " 'pastor': 18355,\n",
       " 'megan': 15809,\n",
       " 'twohey': 25863,\n",
       " 'scott': 22113,\n",
       " 'shane': 22543,\n",
       " 'backchannel': 2543,\n",
       " 'plan': 18914,\n",
       " 'ukraine': 25931,\n",
       " 'russia': 21625,\n",
       " 'courtesy': 6063,\n",
       " 'associates': 2250,\n",
       " 'aaron': 777,\n",
       " 'klein': 13994,\n",
       " 'obama’s': 17474,\n",
       " 'organizing': 17841,\n",
       " 'action': 958,\n",
       " 'partners': 18310,\n",
       " 'soroslinked': 23359,\n",
       " '‘indivisible’': 29568,\n",
       " 'disrupt': 7505,\n",
       " 'agenda': 1196,\n",
       " 'chris': 4937,\n",
       " 'tomlinson': 25274,\n",
       " 'bbc': 2875,\n",
       " 'comedy': 5416,\n",
       " 'sketch': 22968,\n",
       " 'real': 20364,\n",
       " 'housewives': 12169,\n",
       " 'isis': 13152,\n",
       " 'causes': 4551,\n",
       " 'outrage': 17948,\n",
       " 'amando': 1532,\n",
       " 'flavio': 9795,\n",
       " 'russian': 21632,\n",
       " 'researchers': 20928,\n",
       " 'discover': 7417,\n",
       " 'secret': 22226,\n",
       " 'nazi': 16915,\n",
       " 'military': 16077,\n",
       " 'base': 2793,\n",
       " '‘treasure': 30137,\n",
       " 'hunter’': 12274,\n",
       " 'arctic': 2035,\n",
       " 'photos': 18756,\n",
       " 'ditz': 7557,\n",
       " 'officials': 17599,\n",
       " 'link': 14763,\n",
       " 'anotherannie': 1736,\n",
       " 'yes': 27760,\n",
       " 'paid': 18114,\n",
       " 'government': 10903,\n",
       " 'trolls': 25614,\n",
       " 'social': 23225,\n",
       " 'media': 15769,\n",
       " 'blogs': 3378,\n",
       " 'forums': 10034,\n",
       " 'websites': 27096,\n",
       " 'jack': 13255,\n",
       " 'williams': 27364,\n",
       " 'major': 15265,\n",
       " 'league': 14436,\n",
       " 'soccer': 23222,\n",
       " 'argentines': 2054,\n",
       " 'find': 9657,\n",
       " 'home': 12014,\n",
       " 'success': 24159,\n",
       " 'michael': 15996,\n",
       " 'corkery': 5916,\n",
       " 'stacy': 23661,\n",
       " 'cowley': 6100,\n",
       " 'wells': 27166,\n",
       " 'fargo': 9341,\n",
       " 'chief': 4860,\n",
       " 'abruptly': 847,\n",
       " 'steps': 23843,\n",
       " 'starkman': 23733,\n",
       " 'anonymous': 1733,\n",
       " 'donor': 7712,\n",
       " 'pays': 18444,\n",
       " '25': 368,\n",
       " 'million': 16092,\n",
       " 'release': 20721,\n",
       " 'everyone': 8860,\n",
       " 'arrested': 2116,\n",
       " 'dakota': 6466,\n",
       " 'access': 888,\n",
       " 'pipeline': 18861,\n",
       " 'doc': 7612,\n",
       " 'fbi': 9426,\n",
       " 'closes': 5201,\n",
       " 'jeff': 13367,\n",
       " 'poor': 19150,\n",
       " 'chuck': 4976,\n",
       " 'todd': 25241,\n",
       " '’buzzfeed': 30409,\n",
       " 'political': 19090,\n",
       " 'favor’': 9419,\n",
       " 'news': 17074,\n",
       " 'hope': 12076,\n",
       " 'gop': 10861,\n",
       " 'nude': 17371,\n",
       " 'paul': 18407,\n",
       " 'ryan': 21667,\n",
       " 'emerged': 8407,\n",
       " 'ayahuasca': 2493,\n",
       " 'tent': 24850,\n",
       " 'visions': 26712,\n",
       " 'republican': 20899,\n",
       " 'party': 18317,\n",
       " 'jerome': 13397,\n",
       " 'hudson': 12210,\n",
       " 'monica': 16360,\n",
       " 'lewinsky': 14612,\n",
       " 'sex': 22476,\n",
       " 'scandal': 21964,\n",
       " 'set': 22441,\n",
       " '’american': 30311,\n",
       " 'crime': 6190,\n",
       " 'story’': 23952,\n",
       " 'pam': 18168,\n",
       " 'key': 13858,\n",
       " 'rob': 21333,\n",
       " 'reiner': 20675,\n",
       " '’mentally': 30890,\n",
       " 'unstable’': 26217,\n",
       " 'massachusetts': 15560,\n",
       " 'cop’s': 5904,\n",
       " 'wife': 27324,\n",
       " 'busted': 4093,\n",
       " 'pinning': 18854,\n",
       " 'fake': 9273,\n",
       " 'homeinvasion': 12017,\n",
       " 'robbery': 21338,\n",
       " 'lives': 14827,\n",
       " 'matter': 15619,\n",
       " 'g': 10346,\n",
       " 'mcneil': 15730,\n",
       " 'jr': 13580,\n",
       " 'belluck': 3005,\n",
       " 'abortion': 832,\n",
       " 'pill': 18823,\n",
       " 'orders': 17820,\n",
       " 'rise': 21280,\n",
       " '7': 615,\n",
       " 'latin': 14346,\n",
       " 'american': 1564,\n",
       " 'nations': 16872,\n",
       " 'zika': 27901,\n",
       " 'alert': 1368,\n",
       " 'ira': 13097,\n",
       " 'helfand': 11695,\n",
       " 'nukes': 17384,\n",
       " 'un': 25957,\n",
       " 'historic': 11919,\n",
       " 'treaty': 25546,\n",
       " 'ban': 2665,\n",
       " 'nuclear': 17363,\n",
       " 'weapons': 27075,\n",
       " 'ali': 1392,\n",
       " 'waked': 26869,\n",
       " 'islamic': 13161,\n",
       " 'state': 23762,\n",
       " 'supporters': 24299,\n",
       " 'vow': 26810,\n",
       " '‘shake’': 29988,\n",
       " 'west': 27188,\n",
       " 'following': 9924,\n",
       " 'manchester': 15327,\n",
       " 'terrorist': 24885,\n",
       " 'massacre': 15561,\n",
       " 'amanda': 1531,\n",
       " 'shea': 22590,\n",
       " 'humiliated': 12252,\n",
       " 'tries': 25588,\n",
       " 'hide': 11809,\n",
       " 'camera': 4224,\n",
       " 'caught': 4547,\n",
       " 'mins': 16149,\n",
       " 'rally': 20203,\n",
       " 'jim': 13454,\n",
       " 'dwyer': 8008,\n",
       " 'andrea': 1652,\n",
       " 'tantaros': 24667,\n",
       " 'fox': 10069,\n",
       " 'claims': 5063,\n",
       " 'retaliation': 21044,\n",
       " 'harassment': 11429,\n",
       " 'complaints': 5532,\n",
       " 'mark': 15458,\n",
       " 'landler': 14274,\n",
       " 'became': 2911,\n",
       " 'hawk': 11557,\n",
       " 'ian': 12347,\n",
       " 'hanchett': 11355,\n",
       " 'buzzfeed': 4122,\n",
       " 'eic': 8241,\n",
       " '’you': 31357,\n",
       " 'published': 19873,\n",
       " 'news’': 17091,\n",
       " 'israel': 13186,\n",
       " 'becoming': 2922,\n",
       " 'pivotal': 18894,\n",
       " 'china’s': 4890,\n",
       " 'mideastern': 16022,\n",
       " 'calculus': 4178,\n",
       " 'httpjournalneoorg20161107israelisbecomingpivotaltochinasmideasterncalculus': 12197,\n",
       " 'steven': 23856,\n",
       " 'erlanger': 8691,\n",
       " 'boris': 3566,\n",
       " 'johnson': 13511,\n",
       " '‘brexit’': 29170,\n",
       " 'leaders': 14426,\n",
       " 'fumble': 10275,\n",
       " 'clifford': 5151,\n",
       " 'krauss': 14111,\n",
       " 'texas': 24926,\n",
       " 'oil': 17625,\n",
       " 'fields': 9581,\n",
       " 'rebound': 20416,\n",
       " 'price': 19509,\n",
       " 'lull': 15052,\n",
       " 'jobs': 13484,\n",
       " 'left': 14493,\n",
       " 'behind': 2969,\n",
       " 'leslie': 14576,\n",
       " 'picker': 18780,\n",
       " 'danny': 6526,\n",
       " 'hakim': 11300,\n",
       " 'de': 6625,\n",
       " 'la': 14199,\n",
       " 'merced': 15901,\n",
       " 'bayer': 2863,\n",
       " 'deal': 6644,\n",
       " 'monsanto': 16379,\n",
       " 'follows': 9925,\n",
       " 'agribusiness': 1226,\n",
       " 'trend': 25558,\n",
       " 'raising': 20187,\n",
       " 'worries': 27574,\n",
       " 'farmers': 9348,\n",
       " 'andrew': 1655,\n",
       " 'higgins': 11812,\n",
       " 'moves': 16552,\n",
       " 'jehovah’s': 13376,\n",
       " 'witnesses': 27469,\n",
       " '‘extremist’': 29380,\n",
       " 'greanfinisher': 10997,\n",
       " 'still': 23878,\n",
       " '‘the': 30098,\n",
       " 'danger': 6506,\n",
       " 'zone’': 27930,\n",
       " 'january': 13318,\n",
       " '20th': 327,\n",
       " '2017': 310,\n",
       " 'b': 2517,\n",
       " 'open': 17733,\n",
       " 'thread': 25080,\n",
       " 'election': 8279,\n",
       " '201639': 307,\n",
       " 'awr': 2482,\n",
       " 'hawkins': 11561,\n",
       " 'democrat': 6910,\n",
       " 'gutierrez': 11220,\n",
       " 'blames': 3298,\n",
       " 'chicago’s': 4854,\n",
       " 'gun': 11190,\n",
       " 'violence': 26680,\n",
       " 'nra': 17353,\n",
       " 'e': 8061,\n",
       " 'carroll': 4434,\n",
       " 'avoiding': 2456,\n",
       " 'peanuts': 18471,\n",
       " 'avoid': 2454,\n",
       " 'allergy': 1437,\n",
       " 'bad': 2576,\n",
       " 'strategy': 23980,\n",
       " 'dr': 7795,\n",
       " 'susan': 24384,\n",
       " 'berry': 3076,\n",
       " 'mri': 16575,\n",
       " 'shows': 22754,\n",
       " 'detailed': 7124,\n",
       " 'images': 12471,\n",
       " '20week': 328,\n",
       " 'unborn': 25981,\n",
       " 'babies': 2530,\n",
       " 'alexandria': 1376,\n",
       " 'laredo': 14309,\n",
       " '4': 474,\n",
       " 'best': 3085,\n",
       " 'kinds': 13946,\n",
       " 'milk': 16083,\n",
       " 'aren’t': 2049,\n",
       " 'dairy': 6461,\n",
       " 'katie': 13757,\n",
       " 'rogers': 21389,\n",
       " 'lochte': 14877,\n",
       " 'dropped': 7875,\n",
       " 'speedo': 23482,\n",
       " 'usa': 26314,\n",
       " 'retailers': 21037,\n",
       " 'one': 17690,\n",
       " 'girlfriend': 10686,\n",
       " 'without': 27463,\n",
       " 'bastards': 2818,\n",
       " 'fking': 9761,\n",
       " 'asks': 2193,\n",
       " 'harry': 11481,\n",
       " 'conservatives': 5714,\n",
       " 'urge': 26299,\n",
       " 'sessions': 22436,\n",
       " 'clean': 5109,\n",
       " 'civil': 5045,\n",
       " 'rights': 21238,\n",
       " 'division': 7579,\n",
       " 'rutenberg': 21660,\n",
       " 'ben': 3019,\n",
       " 'protess': 19775,\n",
       " 'emily': 8419,\n",
       " 'steel': 23808,\n",
       " 'internal': 12955,\n",
       " 'inquiry': 12831,\n",
       " 'sealed': 22179,\n",
       " 'fate': 9395,\n",
       " 'roger': 21388,\n",
       " 'ailes': 1255,\n",
       " 'gordon': 10871,\n",
       " 'duff': 7935,\n",
       " 'senior': 22357,\n",
       " 'editor': 8171,\n",
       " 'press': 19455,\n",
       " 'tv': 25822,\n",
       " 'debate': 6667,\n",
       " 'lebanon': 14471,\n",
       " 'hezbollah': 11798,\n",
       " 'aoun’s': 1892,\n",
       " 'presidency': 19435,\n",
       " '3': 420,\n",
       " 'videos': 26620,\n",
       " 'сми': 28713,\n",
       " 'сербии': 28695,\n",
       " 'приписали': 28597,\n",
       " 'россиянам': 28669,\n",
       " 'подготовку': 28527,\n",
       " 'терактов': 28780,\n",
       " 'в': 28123,\n",
       " 'черногории': 28859,\n",
       " 'brian': 3786,\n",
       " 'x': 27668,\n",
       " 'chen': 4826,\n",
       " 'samsung': 21814,\n",
       " 'combustible': 5412,\n",
       " 'galaxy': 10392,\n",
       " 'note': 17306,\n",
       " 'unveils': 26246,\n",
       " 'smartphone': 23107,\n",
       " 'virginia': 26693,\n",
       " 'hale': 11304,\n",
       " 'poland': 19067,\n",
       " 'vows': 26813,\n",
       " 'referendum': 20571,\n",
       " 'migrant': 16041,\n",
       " 'quota': 20091,\n",
       " 'amidst': 1581,\n",
       " 'eu': 8790,\n",
       " 'pressure': 19479,\n",
       " '’the': 31234,\n",
       " 'public’s': 19871,\n",
       " 'voice': 26753,\n",
       " 'heard’': 11623,\n",
       " 'lance': 14266,\n",
       " 'schuttler': 22074,\n",
       " 'sparking': 23436,\n",
       " 'inner': 12817,\n",
       " 'revolution': 21139,\n",
       " 'dueling': 7932,\n",
       " 'drills': 7849,\n",
       " 'increase': 12634,\n",
       " 'nato': 16880,\n",
       " 'tensions': 24849,\n",
       " 'nate': 16857,\n",
       " 'church': 4979,\n",
       " 'study': 24075,\n",
       " 'half': 11307,\n",
       " 'car': 4352,\n",
       " 'crashes': 6136,\n",
       " 'involve': 13075,\n",
       " 'drivers': 7858,\n",
       " 'distracted': 7534,\n",
       " 'cell': 4597,\n",
       " 'phones': 18737,\n",
       " 'dairy✓ᵀᴿᵁᴹᴾ': 6462,\n",
       " 'samantha': 21801,\n",
       " 'bee': 2930,\n",
       " 'explores': 9090,\n",
       " 'dangerous': 6507,\n",
       " 'alt': 1497,\n",
       " 'right': 21231,\n",
       " 'politics': 19107,\n",
       " 'spark': 23434,\n",
       " 'individual': 12683,\n",
       " 'collective': 5353,\n",
       " 'healing': 11610,\n",
       " 'madeline': 15188,\n",
       " 'ep': 8630,\n",
       " '544': 555,\n",
       " 'fade': 9237,\n",
       " 'jimmy': 13459,\n",
       " 'w': 26838,\n",
       " 'laura': 14375,\n",
       " 'eisenhower': 8259,\n",
       " 'restoring': 21011,\n",
       " 'balance': 2625,\n",
       " 'mr': 16573,\n",
       " 'islam': 13158,\n",
       " 'cognition': 5303,\n",
       " 'true': 25654,\n",
       " 'book': 3531,\n",
       " 'review': 21115,\n",
       " 'biggest': 3166,\n",
       " 'miracle': 16156,\n",
       " 'history': 11923,\n",
       " 'gordinier': 10870,\n",
       " 'mindful': 16114,\n",
       " 'eating': 8116,\n",
       " 'way': 27053,\n",
       " 'fight': 9590,\n",
       " 'bingeing': 3212,\n",
       " 'neil': 16990,\n",
       " 'irwin': 13141,\n",
       " 'potential': 19272,\n",
       " 'impact': 12513,\n",
       " 'corporate': 5931,\n",
       " 'tax': 24727,\n",
       " 'overhaul': 17995,\n",
       " 'coward': 6091,\n",
       " 'uid': 25927,\n",
       " '12781064': 129,\n",
       " 'wonder': 27510,\n",
       " 'glp': 10763,\n",
       " 'like': 14715,\n",
       " 'day': 6603,\n",
       " 'kenneth': 13826,\n",
       " 'chang': 4708,\n",
       " 'sewell': 22474,\n",
       " 'chan': 4697,\n",
       " 'makers': 15272,\n",
       " 'world’s': 27569,\n",
       " 'smallest': 23098,\n",
       " 'machines': 15166,\n",
       " 'awarded': 2467,\n",
       " 'nobel': 17190,\n",
       " 'prize': 19578,\n",
       " 'chemistry': 4821,\n",
       " 'broadcast': 3847,\n",
       " 'network': 17040,\n",
       " 'massive': 15570,\n",
       " 'antitrump': 1851,\n",
       " 'protests': 19786,\n",
       " 'union': 26115,\n",
       " 'square': 23626,\n",
       " 'nyc': 17425,\n",
       " 'live': 14821,\n",
       " 'stream': 23988,\n",
       " '‘lion’': 29665,\n",
       " 'brings': 3828,\n",
       " 'tears': 24767,\n",
       " 'lost': 14967,\n",
       " 'boy': 3641,\n",
       " 'wiped': 27423,\n",
       " 'dry': 7903,\n",
       " 'google': 10855,\n",
       " 'kristina': 14129,\n",
       " 'wong': 27513,\n",
       " 'general': 10545,\n",
       " 'chemical': 4819,\n",
       " 'attack': 2315,\n",
       " '’no': 30931,\n",
       " 'impact’': 12515,\n",
       " 'forces': 9963,\n",
       " 'admin': 1036,\n",
       " 'jury': 13642,\n",
       " 'finds': 9660,\n",
       " 'oregon': 17829,\n",
       " 'standoff': 23713,\n",
       " 'defendants': 6793,\n",
       " 'guilty': 11176,\n",
       " 'federal': 9461,\n",
       " 'conspiracy': 5734,\n",
       " 'charges': 4744,\n",
       " 'campaign': 4235,\n",
       " 'stunned': 24091,\n",
       " 'reportedly': 20864,\n",
       " 'reopens': 20822,\n",
       " 'probe': 19588,\n",
       " 'emails': 8373,\n",
       " 'jeremy': 13395,\n",
       " 'peters': 18670,\n",
       " 'pence': 18516,\n",
       " 'speak': 23446,\n",
       " 'antiabortion': 1764,\n",
       " 'easley': 8102,\n",
       " 'bernie': 3071,\n",
       " 'sanders': 21830,\n",
       " 'says': 21941,\n",
       " 'won’t': 27517,\n",
       " 'gutless': 11222,\n",
       " 'make': 15269,\n",
       " 'briquettes': 3833,\n",
       " 'daily': 6456,\n",
       " 'waste': 27012,\n",
       " 'ivan': 13231,\n",
       " 'stakhanovets': 23685,\n",
       " 'treason': 25529,\n",
       " 'nyt': 17433,\n",
       " 'rededication': 20522,\n",
       " 'reporting': 20870,\n",
       " 'jacey': 13254,\n",
       " 'fortin': 10027,\n",
       " 'dress': 7838,\n",
       " 'mean': 15740,\n",
       " 'brett': 3772,\n",
       " 'anderson': 1648,\n",
       " '91': 735,\n",
       " 'ella': 8343,\n",
       " 'brennan': 3767,\n",
       " 'feeds': 9478,\n",
       " 'leads': 14431,\n",
       " 'orleans': 17858,\n",
       " 'jane': 13311,\n",
       " 'perlez': 18606,\n",
       " 'pressing': 19459,\n",
       " 'asia': 2180,\n",
       " 'obama': 17459,\n",
       " 'treads': 25528,\n",
       " 'lightly': 14708,\n",
       " 'human': 12234,\n",
       " 'josh': 13550,\n",
       " 'katz': 13765,\n",
       " 'democrats': 6913,\n",
       " '60': 575,\n",
       " 'percent': 18570,\n",
       " 'chance': 4698,\n",
       " 'retake': 21040,\n",
       " 'senate': 22343,\n",
       " 'pr': 19310,\n",
       " 'disaster': 7387,\n",
       " 'president': 19439,\n",
       " 'panasonic': 18174,\n",
       " 'forced': 9961,\n",
       " 'resign': 20949,\n",
       " '60000': 578,\n",
       " 'tvs': 25824,\n",
       " 'ascended': 2165,\n",
       " 'heaven': 11654,\n",
       " 'warning': 26970,\n",
       " 'redflag': 20530,\n",
       " 'newsdesk': 17077,\n",
       " 'judge': 13592,\n",
       " 'spanks': 23426,\n",
       " 'transgenderobsessed': 25473,\n",
       " 'lie': 14671,\n",
       " '51': 547,\n",
       " 'diplomats': 7337,\n",
       " 'strikes': 24027,\n",
       " 'assad': 2202,\n",
       " 'syria': 24534,\n",
       " 'franken': 10107,\n",
       " 'calls': 4205,\n",
       " '’independent': 30768,\n",
       " 'investigation’': 13050,\n",
       " '’putin': 31051,\n",
       " 'crush’': 6301,\n",
       " 'kannapell': 13707,\n",
       " 'sandra': 21834,\n",
       " 'stevenson': 23858,\n",
       " 'louisiana': 14988,\n",
       " 'simone': 22882,\n",
       " 'biles': 3183,\n",
       " 'race': 20114,\n",
       " 'tuesday': 25758,\n",
       " 'evening': 8844,\n",
       " 'briefing': 3807,\n",
       " 'london': 14902,\n",
       " 'turkey': 25791,\n",
       " 'threatens': 25085,\n",
       " '’land': 30824,\n",
       " 'passage’': 18337,\n",
       " 'europe': 8806,\n",
       " 'row': 21519,\n",
       " 'dutch': 7992,\n",
       " 'steve': 23853,\n",
       " 'sailer': 21745,\n",
       " 'huma’s': 12248,\n",
       " 'weiner': 27132,\n",
       " 'dogs': 7649,\n",
       " 'osborn': 17871,\n",
       " 'colin': 5333,\n",
       " 'kaepernick': 13672,\n",
       " 'starts': 23752,\n",
       " 'pantherinspired': 18196,\n",
       " 'youth': 27816,\n",
       " 'camp': 4233,\n",
       " 'wow': 27601,\n",
       " 'nicholas': 17114,\n",
       " 'kulish': 14157,\n",
       " 'vivian': 26736,\n",
       " 'yee': 27743,\n",
       " 'caitlin': 4166,\n",
       " 'dickerson': 7231,\n",
       " 'liz': 14839,\n",
       " 'robbins': 21341,\n",
       " 'fernanda': 9528,\n",
       " 'santos': 21856,\n",
       " 'jennifer': 13386,\n",
       " 'medina': 15786,\n",
       " 'immigration': 12500,\n",
       " 'policies': 19080,\n",
       " 'explained': 9074,\n",
       " 'niraj': 17175,\n",
       " 'chokshi': 4917,\n",
       " 'liam': 14622,\n",
       " 'stack': 23659,\n",
       " 'mary': 15531,\n",
       " 'tyler': 25875,\n",
       " 'moore': 16418,\n",
       " 'mourned': 16535,\n",
       " 'dick': 7230,\n",
       " 'van': 26436,\n",
       " 'dyke': 8014,\n",
       " 'stars': 23740,\n",
       " 'heather': 11649,\n",
       " 'callaghan': 4198,\n",
       " 'poison': 19058,\n",
       " 'healy': 11619,\n",
       " 'fans': 9326,\n",
       " 'across': 954,\n",
       " 'nation': 16861,\n",
       " 'support': 24294,\n",
       " 'kayla': 13773,\n",
       " 'brandon': 3696,\n",
       " 'biz': 3260,\n",
       " 'reporter': 20866,\n",
       " 'cant': 4305,\n",
       " 'help': 11713,\n",
       " 'bash': 2802,\n",
       " 'clinton’s': 5182,\n",
       " 'covering': 6082,\n",
       " 'packed': 18087,\n",
       " 'event': 8846,\n",
       " 'hess': 11787,\n",
       " '11': 65,\n",
       " 'fiction': 9572,\n",
       " 'podcasts': 19031,\n",
       " 'worth': 27587,\n",
       " 'listen': 14794,\n",
       " 'mike': 16053,\n",
       " 'birbiglia': 3229,\n",
       " 'birbiglia’s': 3230,\n",
       " 'tips': 25203,\n",
       " 'making': 15278,\n",
       " 'small': 23096,\n",
       " 'anywhere': 1887,\n",
       " 'mac': 15144,\n",
       " 'slavo': 23029,\n",
       " 'investment': 13058,\n",
       " 'strategist': 23977,\n",
       " 'forecasts': 9971,\n",
       " 'collapse': 5338,\n",
       " 'timeline': 25172,\n",
       " 'last': 14331,\n",
       " 'gasp': 10481,\n",
       " 'economic': 8144,\n",
       " 'cycle': 6424,\n",
       " 'come': 5413,\n",
       " '2018’': 315,\n",
       " 'casey': 4469,\n",
       " 'patricia': 18383,\n",
       " 'torres': 25336,\n",
       " 'venezuela': 26504,\n",
       " 'muzzles': 16741,\n",
       " 'legislature': 14527,\n",
       " 'moving': 16559,\n",
       " 'closer': 5200,\n",
       " 'oneman': 17694,\n",
       " 'rule': 21573,\n",
       " 'natural': 16887,\n",
       " 'editors': 8176,\n",
       " 'whether': 27240,\n",
       " 'john': 13506,\n",
       " 'mccain': 15680,\n",
       " 'mitt': 16237,\n",
       " 'romney': 21428,\n",
       " 'always': 1521,\n",
       " 'run': 21591,\n",
       " 'war': 26940,\n",
       " 'women': 27506,\n",
       " 'tactic': 24584,\n",
       " 'destroy': 7110,\n",
       " 'candidate': 4283,\n",
       " 'boom': 3539,\n",
       " 'edwin': 8196,\n",
       " 'mora': 16423,\n",
       " 'white': 27262,\n",
       " 'confirms': 5641,\n",
       " 'gitmo': 10694,\n",
       " 'transfers': 25464,\n",
       " 'leaves': 14467,\n",
       " 'office': 17589,\n",
       " 'geometry': 10587,\n",
       " 'energy': 8525,\n",
       " 'meditation': 15789,\n",
       " 'buddha': 3946,\n",
       " 'katherine': 13752,\n",
       " 'rodriguez': 21379,\n",
       " 'poll': 19115,\n",
       " 'voters': 26795,\n",
       " 'heard': 11622,\n",
       " 'democratic': 6911,\n",
       " '2020': 317,\n",
       " 'candidates': 4284,\n",
       " 'migrants': 16044,\n",
       " 'confront': 5652,\n",
       " 'judgment': 13596,\n",
       " 'old': 17642,\n",
       " 'deportation': 7005,\n",
       " 'tara': 24686,\n",
       " 'siegel': 22819,\n",
       " 'bernard': 3069,\n",
       " 'mit': 16233,\n",
       " 'nyu': 17437,\n",
       " 'yale': 27705,\n",
       " 'sued': 24179,\n",
       " 'retirement': 21054,\n",
       " 'fees': 9483,\n",
       " 'activist': 971,\n",
       " 'post': 19232,\n",
       " 'technocracy': 24783,\n",
       " 'reason': 20389,\n",
       " 'wants': 26933,\n",
       " 'control': 5825,\n",
       " 'internet': 12960,\n",
       " 'matt': 15617,\n",
       " 'richtel': 21193,\n",
       " 'regain': 20607,\n",
       " 'appetite': 1945,\n",
       " 'gas': 10478,\n",
       " 'guzzlers': 11233,\n",
       " 'confessore': 5624,\n",
       " 'rachel': 20118,\n",
       " 'shorey': 22711,\n",
       " 'builds': 3976,\n",
       " '150': 161,\n",
       " 'chest': 4841,\n",
       " 'doubling': 7755,\n",
       " 'catches': 4522,\n",
       " 'sick': 22799,\n",
       " 'snuck': 23205,\n",
       " 'interview': 12986,\n",
       " 'priceless': 19510,\n",
       " 'response': 20992,\n",
       " 'joel': 13497,\n",
       " 'pollak': 19117,\n",
       " '100': 13,\n",
       " 'senators': 22347,\n",
       " 'contacted': 5765,\n",
       " 'week': 27108,\n",
       " 'antimedia': 1821,\n",
       " '10': 12,\n",
       " 'perfectly': 18584,\n",
       " 'illustrate': 12463,\n",
       " 'struggle': 24057,\n",
       " 'patrick': 18384,\n",
       " 'leahy': 14440,\n",
       " 'washington': 27000,\n",
       " 'takes': 24613,\n",
       " 'refugees': 20597,\n",
       " '0': 0,\n",
       " 'muslim': 16707,\n",
       " 'rest': 20999,\n",
       " 'country': 6042,\n",
       " '189': 209,\n",
       " '151': 165,\n",
       " 'houthi': 12176,\n",
       " 'capture': 4347,\n",
       " 'saudi': 21902,\n",
       " 'asir': 2187,\n",
       " 'warner': 26968,\n",
       " 'huston': 12302,\n",
       " 'ncaa': 16928,\n",
       " '12': 110,\n",
       " 'keeps': 13789,\n",
       " 'watchful': 27025,\n",
       " 'eye': 9165,\n",
       " 'bathroom': 2830,\n",
       " 'bill': 3186,\n",
       " 'dylan': 8016,\n",
       " 'gwinn': 11235,\n",
       " 'espn': 8738,\n",
       " 'financial': 9651,\n",
       " 'subscriber': 24134,\n",
       " 'losses': 14966,\n",
       " 'drag': 7801,\n",
       " 'disney’s': 7472,\n",
       " 'firstquarter': 9720,\n",
       " 'sales': 21769,\n",
       " 'koblin': 14055,\n",
       " 'megyn': 15814,\n",
       " 'kelly': 13808,\n",
       " 'contract': 5805,\n",
       " 'expire': 9072,\n",
       " 'next': 17100,\n",
       " 'year': 27729,\n",
       " 'primed': 19530,\n",
       " 'show': 22741,\n",
       " 'teacher': 24747,\n",
       " 'suspended': 24397,\n",
       " 'allowing': 1453,\n",
       " 'students': 24066,\n",
       " 'hit': 11927,\n",
       " 'pinata': 18840,\n",
       " 'cinco': 5006,\n",
       " 'mayo': 15659,\n",
       " 'amy': 1609,\n",
       " 'moreno': 16436,\n",
       " 'breaking': 3735,\n",
       " 'expressed': 9113,\n",
       " 'concern': 5576,\n",
       " 'anthony': 1759,\n",
       " 'weiner’s': 27136,\n",
       " '“illegal': 31519,\n",
       " 'access”': 890,\n",
       " 'classified': 5090,\n",
       " 'info': 12743,\n",
       " '2': 270,\n",
       " 'months': 16395,\n",
       " 'ago': 1215,\n",
       " '–': 29042,\n",
       " 'truthfeed': 25726,\n",
       " 'snap': 23164,\n",
       " 'shares': 22559,\n",
       " 'leap': 14455,\n",
       " '44': 493,\n",
       " 'debut': 6684,\n",
       " 'investors': 13061,\n",
       " 'doubt': 7756,\n",
       " 'value': 26428,\n",
       " 'vanish': 26448,\n",
       " 'chair': 4667,\n",
       " 'dinner': 7321,\n",
       " 'top': 25303,\n",
       " 'doj': 7653,\n",
       " 'official': 17597,\n",
       " 'hillary’s': 11872,\n",
       " 'benghazi': 3037,\n",
       " 'hearing': 11625,\n",
       " 'series': 22404,\n",
       " '’first': 30631,\n",
       " 'female': 9504,\n",
       " 'mlb': 16249,\n",
       " 'pitcher’': 18885,\n",
       " 'canned': 4297,\n",
       " 'lowrated': 15015,\n",
       " 'season': 22196,\n",
       " 'jeré': 13406,\n",
       " 'longman': 14915,\n",
       " 'seeking': 22256,\n",
       " 'fit': 9740,\n",
       " 'women’s': 27508,\n",
       " 'final': 9641,\n",
       " 'four': 10058,\n",
       " 'returns': 21077,\n",
       " 'fridaysunday': 10192,\n",
       " 'austen': 2390,\n",
       " 'proposal': 19727,\n",
       " 'canadian': 4261,\n",
       " 'national': 16862,\n",
       " 'bird': 3231,\n",
       " 'ruffles': 21559,\n",
       " 'feathers': 9448,\n",
       " 'jon': 13530,\n",
       " 'pareles': 18250,\n",
       " 'beyoncé': 3123,\n",
       " 'makes': 15273,\n",
       " '‘lemonade’': 29647,\n",
       " 'marital': 15455,\n",
       " 'strife': 24023,\n",
       " 'glenn': 10727,\n",
       " 'thrush': 25116,\n",
       " 'kate': 13748,\n",
       " 'maggie': 15216,\n",
       " 'haberman': 11252,\n",
       " 'ask': 2188,\n",
       " 'sharp': 22570,\n",
       " 'increases': 12636,\n",
       " 'spending': 23487,\n",
       " 'say': 21936,\n",
       " 'contributing': 5819,\n",
       " 'author': 2404,\n",
       " 'watergate': 27037,\n",
       " 'smoking': 23144,\n",
       " 'discuss': 7426,\n",
       " '“cleaning': 31409,\n",
       " 'up”': 26292,\n",
       " 'obamahillary': 17468,\n",
       " 'eric': 8685,\n",
       " ...}"
      ]
     },
     "execution_count": 26,
     "metadata": {},
     "output_type": "execute_result"
    }
   ],
   "source": [
    "after_trans.vocabulary_"
   ]
  },
  {
   "cell_type": "code",
   "execution_count": 27,
   "id": "84569a21",
   "metadata": {},
   "outputs": [
    {
     "data": {
      "text/plain": [
       "31782"
      ]
     },
     "execution_count": 27,
     "metadata": {},
     "output_type": "execute_result"
    }
   ],
   "source": [
    "len(after_trans.vocabulary_)"
   ]
  },
  {
   "cell_type": "code",
   "execution_count": 28,
   "id": "56ae6367",
   "metadata": {},
   "outputs": [],
   "source": [
    "TdmSpamData = after_trans.transform(news_data['content'])"
   ]
  },
  {
   "cell_type": "code",
   "execution_count": 29,
   "id": "7240cca3",
   "metadata": {},
   "outputs": [
    {
     "data": {
      "text/plain": [
       "(20800, 31782)"
      ]
     },
     "execution_count": 29,
     "metadata": {},
     "output_type": "execute_result"
    }
   ],
   "source": [
    "TdmSpamData.shape\n",
    "# TDM will act as my X values"
   ]
  },
  {
   "cell_type": "code",
   "execution_count": 30,
   "id": "1d2ee1df",
   "metadata": {},
   "outputs": [
    {
     "data": {
      "text/plain": [
       "scipy.sparse.csr.csr_matrix"
      ]
     },
     "execution_count": 30,
     "metadata": {},
     "output_type": "execute_result"
    }
   ],
   "source": [
    "type(TdmSpamData)"
   ]
  },
  {
   "cell_type": "code",
   "execution_count": 31,
   "id": "25883bad",
   "metadata": {},
   "outputs": [
    {
     "data": {
      "text/plain": [
       "array([[0, 0, 0, ..., 0, 0, 0],\n",
       "       [0, 0, 0, ..., 0, 0, 0],\n",
       "       [0, 0, 0, ..., 0, 0, 0],\n",
       "       ...,\n",
       "       [0, 0, 0, ..., 0, 0, 0],\n",
       "       [0, 0, 0, ..., 0, 0, 0],\n",
       "       [0, 0, 0, ..., 0, 0, 0]], dtype=int64)"
      ]
     },
     "execution_count": 31,
     "metadata": {},
     "output_type": "execute_result"
    }
   ],
   "source": [
    "TdmSpamData.toarray()[0::]"
   ]
  },
  {
   "cell_type": "markdown",
   "id": "4efd2849",
   "metadata": {},
   "source": [
    "### Spliting the data into Train and Test data"
   ]
  },
  {
   "cell_type": "code",
   "execution_count": 32,
   "id": "fd8d3c37",
   "metadata": {},
   "outputs": [],
   "source": [
    "from sklearn.model_selection import train_test_split"
   ]
  },
  {
   "cell_type": "code",
   "execution_count": 33,
   "id": "4e0f0df6",
   "metadata": {},
   "outputs": [],
   "source": [
    "train_x , test_x , train_y , test_y = train_test_split(TdmSpamData, news_data.label, test_size=.2)"
   ]
  },
  {
   "cell_type": "markdown",
   "id": "88994a7f",
   "metadata": {},
   "source": [
    "### Apply Naive Bayes"
   ]
  },
  {
   "cell_type": "code",
   "execution_count": 34,
   "id": "69a7c612",
   "metadata": {},
   "outputs": [],
   "source": [
    "from sklearn.naive_bayes import MultinomialNB"
   ]
  },
  {
   "cell_type": "code",
   "execution_count": 35,
   "id": "67d0bfcc",
   "metadata": {},
   "outputs": [],
   "source": [
    "nb_news_data = MultinomialNB()"
   ]
  },
  {
   "cell_type": "code",
   "execution_count": 36,
   "id": "7f2e5d8f",
   "metadata": {},
   "outputs": [
    {
     "data": {
      "text/plain": [
       "MultinomialNB()"
      ]
     },
     "execution_count": 36,
     "metadata": {},
     "output_type": "execute_result"
    }
   ],
   "source": [
    "nb_news_data.fit(train_x,train_y)"
   ]
  },
  {
   "cell_type": "code",
   "execution_count": 37,
   "id": "374e9934",
   "metadata": {},
   "outputs": [],
   "source": [
    "pred = nb_news_data.predict(test_x)"
   ]
  },
  {
   "cell_type": "code",
   "execution_count": 38,
   "id": "5396e787",
   "metadata": {},
   "outputs": [],
   "source": [
    "from sklearn.metrics import confusion_matrix"
   ]
  },
  {
   "cell_type": "code",
   "execution_count": 39,
   "id": "76427cfb",
   "metadata": {},
   "outputs": [
    {
     "data": {
      "text/plain": [
       "array([[2049,   12],\n",
       "       [ 130, 1969]], dtype=int64)"
      ]
     },
     "execution_count": 39,
     "metadata": {},
     "output_type": "execute_result"
    }
   ],
   "source": [
    "tab = confusion_matrix(test_y,pred)\n",
    "tab"
   ]
  },
  {
   "cell_type": "code",
   "execution_count": 40,
   "id": "90c76999",
   "metadata": {},
   "outputs": [],
   "source": [
    "from sklearn.metrics import accuracy_score"
   ]
  },
  {
   "cell_type": "code",
   "execution_count": 41,
   "id": "2083246c",
   "metadata": {},
   "outputs": [
    {
     "data": {
      "text/plain": [
       "96.58653846153847"
      ]
     },
     "execution_count": 41,
     "metadata": {},
     "output_type": "execute_result"
    }
   ],
   "source": [
    "accuracy_score(test_y,pred)*100"
   ]
  },
  {
   "cell_type": "markdown",
   "id": "b2ed59d1",
   "metadata": {},
   "source": [
    "### Apply Decision Tree"
   ]
  },
  {
   "cell_type": "code",
   "execution_count": 42,
   "id": "37b76079",
   "metadata": {},
   "outputs": [],
   "source": [
    "from sklearn.tree import DecisionTreeClassifier\n",
    "dt = DecisionTreeClassifier()                     # Default as gini"
   ]
  },
  {
   "cell_type": "code",
   "execution_count": 43,
   "id": "46469242",
   "metadata": {},
   "outputs": [
    {
     "data": {
      "text/plain": [
       "DecisionTreeClassifier()"
      ]
     },
     "execution_count": 43,
     "metadata": {},
     "output_type": "execute_result"
    }
   ],
   "source": [
    "dt.fit(train_x,train_y)"
   ]
  },
  {
   "cell_type": "code",
   "execution_count": 44,
   "id": "1a70808b",
   "metadata": {},
   "outputs": [
    {
     "data": {
      "text/plain": [
       "array([0, 0, 0, ..., 1, 1, 1], dtype=int64)"
      ]
     },
     "execution_count": 44,
     "metadata": {},
     "output_type": "execute_result"
    }
   ],
   "source": [
    "pred1 = dt.predict(test_x)\n",
    "pred1"
   ]
  },
  {
   "cell_type": "code",
   "execution_count": 45,
   "id": "39e4a020",
   "metadata": {},
   "outputs": [
    {
     "data": {
      "text/plain": [
       "(4160,)"
      ]
     },
     "execution_count": 45,
     "metadata": {},
     "output_type": "execute_result"
    }
   ],
   "source": [
    "pred1.shape"
   ]
  },
  {
   "cell_type": "code",
   "execution_count": 46,
   "id": "af66abbd",
   "metadata": {},
   "outputs": [
    {
     "data": {
      "text/plain": [
       "array([[2049,   12],\n",
       "       [ 130, 1969]], dtype=int64)"
      ]
     },
     "execution_count": 46,
     "metadata": {},
     "output_type": "execute_result"
    }
   ],
   "source": [
    "from sklearn.metrics import confusion_matrix\n",
    "confusion_matrix(test_y,pred)"
   ]
  },
  {
   "cell_type": "code",
   "execution_count": 47,
   "id": "a3a5ca46",
   "metadata": {},
   "outputs": [
    {
     "data": {
      "text/plain": [
       "96.58653846153847"
      ]
     },
     "execution_count": 47,
     "metadata": {},
     "output_type": "execute_result"
    }
   ],
   "source": [
    "from sklearn.metrics import accuracy_score\n",
    "accuracy_score(test_y,pred) *100"
   ]
  },
  {
   "cell_type": "code",
   "execution_count": null,
   "id": "39a3025b",
   "metadata": {},
   "outputs": [],
   "source": []
  },
  {
   "cell_type": "markdown",
   "id": "2fe21e7b",
   "metadata": {},
   "source": [
    "### Apply Random Forest"
   ]
  },
  {
   "cell_type": "code",
   "execution_count": 48,
   "id": "73a9b2b9",
   "metadata": {},
   "outputs": [],
   "source": [
    "from sklearn.ensemble import RandomForestClassifier\n",
    "rfc_trf = RandomForestClassifier()"
   ]
  },
  {
   "cell_type": "code",
   "execution_count": 49,
   "id": "fa99bc72",
   "metadata": {},
   "outputs": [
    {
     "data": {
      "text/plain": [
       "RandomForestClassifier()"
      ]
     },
     "execution_count": 49,
     "metadata": {},
     "output_type": "execute_result"
    }
   ],
   "source": [
    "rfc_trf.fit(train_x,train_y)"
   ]
  },
  {
   "cell_type": "code",
   "execution_count": 50,
   "id": "18811b16",
   "metadata": {},
   "outputs": [
    {
     "data": {
      "text/plain": [
       "array([0, 0, 0, ..., 1, 1, 1], dtype=int64)"
      ]
     },
     "execution_count": 50,
     "metadata": {},
     "output_type": "execute_result"
    }
   ],
   "source": [
    "pred2 = rfc_trf.predict(test_x)\n",
    "pred2"
   ]
  },
  {
   "cell_type": "code",
   "execution_count": 51,
   "id": "69036580",
   "metadata": {},
   "outputs": [
    {
     "data": {
      "text/plain": [
       "array([[2039,   22],\n",
       "       [   6, 2093]], dtype=int64)"
      ]
     },
     "execution_count": 51,
     "metadata": {},
     "output_type": "execute_result"
    }
   ],
   "source": [
    "from sklearn.metrics import confusion_matrix\n",
    "\n",
    "tab_trf2 = confusion_matrix(test_y,pred2) \n",
    "tab_trf2"
   ]
  },
  {
   "cell_type": "code",
   "execution_count": 52,
   "id": "c47934cf",
   "metadata": {},
   "outputs": [
    {
     "data": {
      "text/plain": [
       "99.32692307692308"
      ]
     },
     "execution_count": 52,
     "metadata": {},
     "output_type": "execute_result"
    }
   ],
   "source": [
    "from sklearn.metrics import accuracy_score\n",
    "accuracy_score(test_y,pred2) *100"
   ]
  },
  {
   "cell_type": "markdown",
   "id": "da40a53d",
   "metadata": {},
   "source": [
    "### Apply LogisticRegression "
   ]
  },
  {
   "cell_type": "code",
   "execution_count": 53,
   "id": "3498ee3a",
   "metadata": {},
   "outputs": [],
   "source": [
    "from sklearn.linear_model import LogisticRegression "
   ]
  },
  {
   "cell_type": "code",
   "execution_count": 54,
   "id": "6f03c355",
   "metadata": {},
   "outputs": [],
   "source": [
    "log_cr= LogisticRegression()"
   ]
  },
  {
   "cell_type": "code",
   "execution_count": 55,
   "id": "f1a46f3d",
   "metadata": {},
   "outputs": [
    {
     "data": {
      "text/plain": [
       "LogisticRegression()"
      ]
     },
     "execution_count": 55,
     "metadata": {},
     "output_type": "execute_result"
    }
   ],
   "source": [
    "log_cr.fit(train_x,train_y) "
   ]
  },
  {
   "cell_type": "code",
   "execution_count": 56,
   "id": "1ed7d6d0",
   "metadata": {},
   "outputs": [
    {
     "data": {
      "text/plain": [
       "array([0, 0, 0, ..., 1, 1, 1], dtype=int64)"
      ]
     },
     "execution_count": 56,
     "metadata": {},
     "output_type": "execute_result"
    }
   ],
   "source": [
    "pred_test = log_cr.predict(test_x)\n",
    "pred_test"
   ]
  },
  {
   "cell_type": "code",
   "execution_count": 57,
   "id": "39b7cda4",
   "metadata": {},
   "outputs": [],
   "source": [
    "from sklearn.metrics import confusion_matrix  # use this for matrix"
   ]
  },
  {
   "cell_type": "code",
   "execution_count": 58,
   "id": "c16eb5cd",
   "metadata": {
    "scrolled": true
   },
   "outputs": [
    {
     "data": {
      "text/plain": [
       "array([[2025,   36],\n",
       "       [   8, 2091]], dtype=int64)"
      ]
     },
     "execution_count": 58,
     "metadata": {},
     "output_type": "execute_result"
    }
   ],
   "source": [
    "tab_cr = confusion_matrix(test_y,pred_test)\n",
    "tab_cr"
   ]
  },
  {
   "cell_type": "code",
   "execution_count": 59,
   "id": "c644756c",
   "metadata": {},
   "outputs": [],
   "source": [
    "from sklearn.metrics import accuracy_score"
   ]
  },
  {
   "cell_type": "code",
   "execution_count": 60,
   "id": "027e5f1e",
   "metadata": {},
   "outputs": [
    {
     "data": {
      "text/plain": [
       "98.9423076923077"
      ]
     },
     "execution_count": 60,
     "metadata": {},
     "output_type": "execute_result"
    }
   ],
   "source": [
    "accuracy_score(test_y,pred_test)*100"
   ]
  },
  {
   "cell_type": "markdown",
   "id": "552b7def",
   "metadata": {},
   "source": [
    "- We can see the Logistic regression model giving us good result"
   ]
  },
  {
   "cell_type": "code",
   "execution_count": null,
   "id": "57501330",
   "metadata": {},
   "outputs": [],
   "source": []
  }
 ],
 "metadata": {
  "kernelspec": {
   "display_name": "Python 3 (ipykernel)",
   "language": "python",
   "name": "python3"
  },
  "language_info": {
   "codemirror_mode": {
    "name": "ipython",
    "version": 3
   },
   "file_extension": ".py",
   "mimetype": "text/x-python",
   "name": "python",
   "nbconvert_exporter": "python",
   "pygments_lexer": "ipython3",
   "version": "3.9.12"
  }
 },
 "nbformat": 4,
 "nbformat_minor": 5
}
